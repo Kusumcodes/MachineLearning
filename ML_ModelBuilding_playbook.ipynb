{
  "nbformat": 4,
  "nbformat_minor": 0,
  "metadata": {
    "colab": {
      "name": "ML_ModelBuilding_playbook.ipynb",
      "provenance": [],
      "collapsed_sections": []
    },
    "kernelspec": {
      "name": "python3",
      "display_name": "Python 3"
    }
  },
  "cells": [
    {
      "cell_type": "markdown",
      "metadata": {
        "id": "cooFkwTz92AK"
      },
      "source": [
        "### Supervised Machine Learning \n",
        "\n",
        "This set of Machine Learning problems have a Target Label set present , using which Algorithm learns patterns on Training dataset and then Predicts on Test/Validation set\n",
        "\n",
        "The set of features which are fed into the model are called *Independent variables* .The Target Label which needs to be predicted is called *Dependant Variable*\n",
        "\n",
        "Supervised are usually classified into two kind of problem categories -\n",
        "\n",
        "**Classification** - Where Target variable is a categorical one either being Binary (1/0 , Yes/No) or MultiClass [0,1,2] , [Yes/No/Maybe] \n",
        "\n",
        "**Regression** - Where Target variable is a real value or a probability that needs to be predicted e.g - Students final score \n",
        "\n",
        "Algorithms used for solving these problems are of the following kind -\n",
        "\n",
        "1. Linear Models - includes Linear Regression , Logistic Regression (Classification) , Lasso Regression etc\n",
        "\n",
        "2. Kernel Models - Support Vector Machine ,Principal Component Analysis etc\n",
        "\n",
        "3. Trees based Models - Decision Trees , Random Forest , Gradient Boosting ,Bagging techniques\n",
        "\n",
        "4. Neural Networks"
      ]
    },
    {
      "cell_type": "markdown",
      "metadata": {
        "id": "K-VE1ndI92LE"
      },
      "source": [
        "### Unsupervised Machine Learning\n",
        "\n",
        "This involves drawing inferences from datasets consisting of input data without labeled (Target Label) responses.\n",
        "\n",
        "Techniques used over here are Clustering approaches (KNN, Hierarchical ,DBScan etc)  and Association Rules\n",
        "\n"
      ]
    },
    {
      "cell_type": "markdown",
      "metadata": {
        "id": "jviXszvFFB3j"
      },
      "source": [
        "### Semi Supervised Machine Learning\n",
        "\n",
        "This branch deals with problems having datasets which are labelled in small proportion.Requires combination of bother supervised & unsupervised techniques in solving the problem\n",
        "\n",
        "Few techniques used are :  Label Propagation , Active Learning etc"
      ]
    },
    {
      "cell_type": "markdown",
      "metadata": {
        "id": "HTRDmD2oFEqn"
      },
      "source": [
        "**Supervised Machine Learn - Classification Modeling**\n",
        "\n",
        "Build a model to predict which Loan Applications will be Accepted or Rejected . \n",
        "\n",
        "*'Loan_Status*' in the below dataset defines the application being accepted or not based on Applicants Demographic details captured in the dataset "
      ]
    },
    {
      "cell_type": "code",
      "metadata": {
        "id": "bZdik-Ox9YWw"
      },
      "source": [
        "import warnings\n",
        "warnings.simplefilter(action='ignore', category=FutureWarning)\n",
        "import pandas as pd\n",
        "import numpy as np\n",
        "from scipy import *\n",
        "from sklearn.preprocessing import LabelEncoder\n",
        "from sklearn.preprocessing import OneHotEncoder\n",
        "from sklearn.preprocessing import *\n",
        "from sklearn.model_selection import GridSearchCV\n",
        "from sklearn.model_selection import *\n",
        "from sklearn.metrics import *\n",
        "from sklearn.tree import DecisionTreeClassifier\n",
        "import matplotlib.pyplot as plt\n",
        "import seaborn as sns"
      ],
      "execution_count": 1,
      "outputs": []
    },
    {
      "cell_type": "code",
      "metadata": {
        "id": "S8_DP1LvGcau",
        "colab": {
          "base_uri": "https://localhost:8080/",
          "height": 240
        },
        "outputId": "2b94fc96-8608-4d1a-8b08-50189bf32376"
      },
      "source": [
        "df_data = pd.read_csv(\"dataset_model.csv\",sep=\",\")\n",
        "df_data.head()"
      ],
      "execution_count": 2,
      "outputs": [
        {
          "output_type": "execute_result",
          "data": {
            "text/html": [
              "<div>\n",
              "<style scoped>\n",
              "    .dataframe tbody tr th:only-of-type {\n",
              "        vertical-align: middle;\n",
              "    }\n",
              "\n",
              "    .dataframe tbody tr th {\n",
              "        vertical-align: top;\n",
              "    }\n",
              "\n",
              "    .dataframe thead th {\n",
              "        text-align: right;\n",
              "    }\n",
              "</style>\n",
              "<table border=\"1\" class=\"dataframe\">\n",
              "  <thead>\n",
              "    <tr style=\"text-align: right;\">\n",
              "      <th></th>\n",
              "      <th>Loan_ID</th>\n",
              "      <th>Gender</th>\n",
              "      <th>Married</th>\n",
              "      <th>Dependents</th>\n",
              "      <th>Education</th>\n",
              "      <th>Self_Employed</th>\n",
              "      <th>ApplicantIncome</th>\n",
              "      <th>CoapplicantIncome</th>\n",
              "      <th>LoanAmount</th>\n",
              "      <th>Loan_Amount_Term</th>\n",
              "      <th>Credit_History</th>\n",
              "      <th>Property_Area</th>\n",
              "      <th>Loan_Status</th>\n",
              "    </tr>\n",
              "  </thead>\n",
              "  <tbody>\n",
              "    <tr>\n",
              "      <th>0</th>\n",
              "      <td>LP001002</td>\n",
              "      <td>Male</td>\n",
              "      <td>No</td>\n",
              "      <td>0</td>\n",
              "      <td>Graduate</td>\n",
              "      <td>No</td>\n",
              "      <td>5849</td>\n",
              "      <td>0.0</td>\n",
              "      <td>NaN</td>\n",
              "      <td>360.0</td>\n",
              "      <td>1.0</td>\n",
              "      <td>Urban</td>\n",
              "      <td>Y</td>\n",
              "    </tr>\n",
              "    <tr>\n",
              "      <th>1</th>\n",
              "      <td>LP001003</td>\n",
              "      <td>Male</td>\n",
              "      <td>Yes</td>\n",
              "      <td>1</td>\n",
              "      <td>Graduate</td>\n",
              "      <td>No</td>\n",
              "      <td>4583</td>\n",
              "      <td>1508.0</td>\n",
              "      <td>128.0</td>\n",
              "      <td>360.0</td>\n",
              "      <td>1.0</td>\n",
              "      <td>Rural</td>\n",
              "      <td>N</td>\n",
              "    </tr>\n",
              "    <tr>\n",
              "      <th>2</th>\n",
              "      <td>LP001005</td>\n",
              "      <td>Male</td>\n",
              "      <td>Yes</td>\n",
              "      <td>0</td>\n",
              "      <td>Graduate</td>\n",
              "      <td>Yes</td>\n",
              "      <td>3000</td>\n",
              "      <td>0.0</td>\n",
              "      <td>66.0</td>\n",
              "      <td>360.0</td>\n",
              "      <td>1.0</td>\n",
              "      <td>Urban</td>\n",
              "      <td>Y</td>\n",
              "    </tr>\n",
              "    <tr>\n",
              "      <th>3</th>\n",
              "      <td>LP001006</td>\n",
              "      <td>Male</td>\n",
              "      <td>Yes</td>\n",
              "      <td>0</td>\n",
              "      <td>Not Graduate</td>\n",
              "      <td>No</td>\n",
              "      <td>2583</td>\n",
              "      <td>2358.0</td>\n",
              "      <td>120.0</td>\n",
              "      <td>360.0</td>\n",
              "      <td>1.0</td>\n",
              "      <td>Urban</td>\n",
              "      <td>Y</td>\n",
              "    </tr>\n",
              "    <tr>\n",
              "      <th>4</th>\n",
              "      <td>LP001008</td>\n",
              "      <td>Male</td>\n",
              "      <td>No</td>\n",
              "      <td>0</td>\n",
              "      <td>Graduate</td>\n",
              "      <td>No</td>\n",
              "      <td>6000</td>\n",
              "      <td>0.0</td>\n",
              "      <td>141.0</td>\n",
              "      <td>360.0</td>\n",
              "      <td>1.0</td>\n",
              "      <td>Urban</td>\n",
              "      <td>Y</td>\n",
              "    </tr>\n",
              "  </tbody>\n",
              "</table>\n",
              "</div>"
            ],
            "text/plain": [
              "    Loan_ID Gender Married  ... Credit_History Property_Area Loan_Status\n",
              "0  LP001002   Male      No  ...            1.0         Urban           Y\n",
              "1  LP001003   Male     Yes  ...            1.0         Rural           N\n",
              "2  LP001005   Male     Yes  ...            1.0         Urban           Y\n",
              "3  LP001006   Male     Yes  ...            1.0         Urban           Y\n",
              "4  LP001008   Male      No  ...            1.0         Urban           Y\n",
              "\n",
              "[5 rows x 13 columns]"
            ]
          },
          "metadata": {
            "tags": []
          },
          "execution_count": 2
        }
      ]
    },
    {
      "cell_type": "code",
      "metadata": {
        "id": "eAXvka71Bo9Q",
        "colab": {
          "base_uri": "https://localhost:8080/"
        },
        "outputId": "e347721c-e4da-4a99-a573-a4ed57dd1028"
      },
      "source": [
        "df_data['Education'].unique()"
      ],
      "execution_count": 3,
      "outputs": [
        {
          "output_type": "execute_result",
          "data": {
            "text/plain": [
              "array(['Graduate', 'Not Graduate'], dtype=object)"
            ]
          },
          "metadata": {
            "tags": []
          },
          "execution_count": 3
        }
      ]
    },
    {
      "cell_type": "code",
      "metadata": {
        "id": "6MZFH7u1GuRN",
        "colab": {
          "base_uri": "https://localhost:8080/"
        },
        "outputId": "b2bc8a26-b4c0-421f-a0f7-13a7957de19e"
      },
      "source": [
        "df_data.columns"
      ],
      "execution_count": 4,
      "outputs": [
        {
          "output_type": "execute_result",
          "data": {
            "text/plain": [
              "Index(['Loan_ID', 'Gender', 'Married', 'Dependents', 'Education',\n",
              "       'Self_Employed', 'ApplicantIncome', 'CoapplicantIncome', 'LoanAmount',\n",
              "       'Loan_Amount_Term', 'Credit_History', 'Property_Area', 'Loan_Status'],\n",
              "      dtype='object')"
            ]
          },
          "metadata": {
            "tags": []
          },
          "execution_count": 4
        }
      ]
    },
    {
      "cell_type": "code",
      "metadata": {
        "id": "AqS9jaKRGyF0",
        "colab": {
          "base_uri": "https://localhost:8080/"
        },
        "outputId": "998bc4cd-0eae-408d-e2be-c855aa13f5b1"
      },
      "source": [
        "df_data.shape"
      ],
      "execution_count": 5,
      "outputs": [
        {
          "output_type": "execute_result",
          "data": {
            "text/plain": [
              "(614, 13)"
            ]
          },
          "metadata": {
            "tags": []
          },
          "execution_count": 5
        }
      ]
    },
    {
      "cell_type": "code",
      "metadata": {
        "id": "dSnNirVsIEG_",
        "colab": {
          "base_uri": "https://localhost:8080/"
        },
        "outputId": "44399855-bfe6-4cd3-99d9-68cc6839629a"
      },
      "source": [
        "df_data['Loan_Status'].unique()"
      ],
      "execution_count": 6,
      "outputs": [
        {
          "output_type": "execute_result",
          "data": {
            "text/plain": [
              "array(['Y', 'N'], dtype=object)"
            ]
          },
          "metadata": {
            "tags": []
          },
          "execution_count": 6
        }
      ]
    },
    {
      "cell_type": "markdown",
      "metadata": {
        "id": "lyRfmiZSG_Vk"
      },
      "source": [
        "\n",
        "### Identifying Potential Features in a dataset\n",
        "\n",
        "When given a dataset , here a labelled one with Laon_Status being the Target Label/Dependent Label , rest of the fields become potential Independent Labels or Features.\n",
        "\n",
        "From the \"potenital\" list of features , we first check if any Primary Key record identification fields are present which were created only for Identification purposes.Such fields are removed from Features list as they have no usage in predicting Target Label.Ex - Aadhar card , PAN no , Name etc \n",
        "\n",
        "Here 'Loan_ID' seems to be a unique record identification field , which doesn't seem to capture any information about the applicant.\n"
      ]
    },
    {
      "cell_type": "code",
      "metadata": {
        "id": "8ZnaRHKEJZmw",
        "colab": {
          "base_uri": "https://localhost:8080/"
        },
        "outputId": "0a416a79-a007-4c2a-9a37-1212cb29684d"
      },
      "source": [
        "#Checking if Loan ID has all unique values , and thus can be removed \n",
        "len(df_data['Loan_ID'].unique())"
      ],
      "execution_count": 7,
      "outputs": [
        {
          "output_type": "execute_result",
          "data": {
            "text/plain": [
              "614"
            ]
          },
          "metadata": {
            "tags": []
          },
          "execution_count": 7
        }
      ]
    },
    {
      "cell_type": "code",
      "metadata": {
        "id": "ray-3P6KKDij",
        "colab": {
          "base_uri": "https://localhost:8080/"
        },
        "outputId": "4dbb56c8-73ab-45cf-b5bd-ed853245163d"
      },
      "source": [
        "#Saving the Loan ID in the sequence of application in another dataframe\n",
        "df_id = df_data['Loan_ID']\n",
        "#Dropping Loan ID from Featureset\n",
        "df_data=df_data.drop(columns='Loan_ID')\n",
        "df_data.columns"
      ],
      "execution_count": 8,
      "outputs": [
        {
          "output_type": "execute_result",
          "data": {
            "text/plain": [
              "Index(['Gender', 'Married', 'Dependents', 'Education', 'Self_Employed',\n",
              "       'ApplicantIncome', 'CoapplicantIncome', 'LoanAmount',\n",
              "       'Loan_Amount_Term', 'Credit_History', 'Property_Area', 'Loan_Status'],\n",
              "      dtype='object')"
            ]
          },
          "metadata": {
            "tags": []
          },
          "execution_count": 8
        }
      ]
    },
    {
      "cell_type": "markdown",
      "metadata": {
        "id": "xOrsUPPeK0ZW"
      },
      "source": [
        "Target variables in Classification problems , if they're not numeric then they are always encoded using Label Encoder. This is to ensure that either the Binary Class(0/1) or Multi-Class (0/1/2..) is clearly understood by Model and use this information in Featureset to perform prediction.\n",
        "\n",
        "Also , if there are records which have Target Variables as missing , then they are  removed from Training set . No missing values treatment is done \n"
      ]
    },
    {
      "cell_type": "markdown",
      "metadata": {
        "id": "fbj03qb5LsaJ"
      },
      "source": [
        "## Performing EDA & Feature Engineering on dataset\n"
      ]
    },
    {
      "cell_type": "markdown",
      "metadata": {
        "id": "AUc_UPzGV8oL"
      },
      "source": [
        "**Continous Columns**"
      ]
    },
    {
      "cell_type": "code",
      "metadata": {
        "id": "wNrGa-8PHR-c",
        "colab": {
          "base_uri": "https://localhost:8080/"
        },
        "outputId": "0e7903c2-a2ab-464e-e351-b772044b7e58"
      },
      "source": [
        "num_cols = df_data._get_numeric_data().columns\n",
        "cont_cols = []\n",
        "for i in num_cols:\n",
        "  if(len(df_data[i].unique())) > int(df_data.shape[0]/25):\n",
        "     cont_cols.append(i)\n",
        "print (cont_cols)  "
      ],
      "execution_count": 9,
      "outputs": [
        {
          "output_type": "stream",
          "text": [
            "['ApplicantIncome', 'CoapplicantIncome', 'LoanAmount']\n"
          ],
          "name": "stdout"
        }
      ]
    },
    {
      "cell_type": "markdown",
      "metadata": {
        "id": "NiTy1g18WEYL"
      },
      "source": [
        "**Categorical Columns**"
      ]
    },
    {
      "cell_type": "code",
      "metadata": {
        "id": "-bJ8YbIjWDCT",
        "colab": {
          "base_uri": "https://localhost:8080/"
        },
        "outputId": "095511ec-a131-4f83-e3c6-f26776f13959"
      },
      "source": [
        "cat_cols = list(set(df_data.columns) - set(cont_cols))\n",
        "cat_cols"
      ],
      "execution_count": 10,
      "outputs": [
        {
          "output_type": "execute_result",
          "data": {
            "text/plain": [
              "['Loan_Amount_Term',\n",
              " 'Property_Area',\n",
              " 'Self_Employed',\n",
              " 'Loan_Status',\n",
              " 'Gender',\n",
              " 'Dependents',\n",
              " 'Married',\n",
              " 'Credit_History',\n",
              " 'Education']"
            ]
          },
          "metadata": {
            "tags": []
          },
          "execution_count": 10
        }
      ]
    },
    {
      "cell_type": "markdown",
      "metadata": {
        "id": "Xw79kINbuYHo"
      },
      "source": [
        "**Univariate Data Plotting**"
      ]
    },
    {
      "cell_type": "code",
      "metadata": {
        "colab": {
          "base_uri": "https://localhost:8080/",
          "height": 295
        },
        "id": "VfRsyLsqxt7J",
        "outputId": "76d10b2f-e416-49ab-86c6-217ecb54a86c"
      },
      "source": [
        "df_data.describe()"
      ],
      "execution_count": 62,
      "outputs": [
        {
          "output_type": "execute_result",
          "data": {
            "text/html": [
              "<div>\n",
              "<style scoped>\n",
              "    .dataframe tbody tr th:only-of-type {\n",
              "        vertical-align: middle;\n",
              "    }\n",
              "\n",
              "    .dataframe tbody tr th {\n",
              "        vertical-align: top;\n",
              "    }\n",
              "\n",
              "    .dataframe thead th {\n",
              "        text-align: right;\n",
              "    }\n",
              "</style>\n",
              "<table border=\"1\" class=\"dataframe\">\n",
              "  <thead>\n",
              "    <tr style=\"text-align: right;\">\n",
              "      <th></th>\n",
              "      <th>ApplicantIncome</th>\n",
              "      <th>CoapplicantIncome</th>\n",
              "      <th>LoanAmount</th>\n",
              "      <th>Loan_Amount_Term</th>\n",
              "      <th>Credit_History</th>\n",
              "      <th>Log_CoapplicantIncome</th>\n",
              "    </tr>\n",
              "  </thead>\n",
              "  <tbody>\n",
              "    <tr>\n",
              "      <th>count</th>\n",
              "      <td>614.000000</td>\n",
              "      <td>614.000000</td>\n",
              "      <td>614.000000</td>\n",
              "      <td>614.000000</td>\n",
              "      <td>614.000000</td>\n",
              "      <td>614.000000</td>\n",
              "    </tr>\n",
              "    <tr>\n",
              "      <th>mean</th>\n",
              "      <td>4914.303013</td>\n",
              "      <td>1389.080326</td>\n",
              "      <td>140.159609</td>\n",
              "      <td>342.410423</td>\n",
              "      <td>0.855049</td>\n",
              "      <td>4.266681</td>\n",
              "    </tr>\n",
              "    <tr>\n",
              "      <th>std</th>\n",
              "      <td>3173.154644</td>\n",
              "      <td>1548.446489</td>\n",
              "      <td>59.749990</td>\n",
              "      <td>64.428629</td>\n",
              "      <td>0.352339</td>\n",
              "      <td>3.847088</td>\n",
              "    </tr>\n",
              "    <tr>\n",
              "      <th>min</th>\n",
              "      <td>1897.550000</td>\n",
              "      <td>0.000000</td>\n",
              "      <td>56.000000</td>\n",
              "      <td>12.000000</td>\n",
              "      <td>0.000000</td>\n",
              "      <td>0.000000</td>\n",
              "    </tr>\n",
              "    <tr>\n",
              "      <th>25%</th>\n",
              "      <td>2877.500000</td>\n",
              "      <td>0.000000</td>\n",
              "      <td>100.250000</td>\n",
              "      <td>360.000000</td>\n",
              "      <td>1.000000</td>\n",
              "      <td>0.000000</td>\n",
              "    </tr>\n",
              "    <tr>\n",
              "      <th>50%</th>\n",
              "      <td>3812.500000</td>\n",
              "      <td>1188.500000</td>\n",
              "      <td>128.000000</td>\n",
              "      <td>360.000000</td>\n",
              "      <td>1.000000</td>\n",
              "      <td>7.080284</td>\n",
              "    </tr>\n",
              "    <tr>\n",
              "      <th>75%</th>\n",
              "      <td>5795.000000</td>\n",
              "      <td>2297.250000</td>\n",
              "      <td>164.750000</td>\n",
              "      <td>360.000000</td>\n",
              "      <td>1.000000</td>\n",
              "      <td>7.739462</td>\n",
              "    </tr>\n",
              "    <tr>\n",
              "      <th>max</th>\n",
              "      <td>14583.000000</td>\n",
              "      <td>4997.400000</td>\n",
              "      <td>297.800000</td>\n",
              "      <td>480.000000</td>\n",
              "      <td>1.000000</td>\n",
              "      <td>8.516673</td>\n",
              "    </tr>\n",
              "  </tbody>\n",
              "</table>\n",
              "</div>"
            ],
            "text/plain": [
              "       ApplicantIncome  ...  Log_CoapplicantIncome\n",
              "count       614.000000  ...             614.000000\n",
              "mean       4914.303013  ...               4.266681\n",
              "std        3173.154644  ...               3.847088\n",
              "min        1897.550000  ...               0.000000\n",
              "25%        2877.500000  ...               0.000000\n",
              "50%        3812.500000  ...               7.080284\n",
              "75%        5795.000000  ...               7.739462\n",
              "max       14583.000000  ...               8.516673\n",
              "\n",
              "[8 rows x 6 columns]"
            ]
          },
          "metadata": {
            "tags": []
          },
          "execution_count": 62
        }
      ]
    },
    {
      "cell_type": "code",
      "metadata": {
        "colab": {
          "base_uri": "https://localhost:8080/",
          "height": 315
        },
        "id": "QU6pGjcGuXh3",
        "outputId": "def98c1e-48c7-420a-a5d2-84fbe2495322"
      },
      "source": [
        "#Distribution of Dependents across data\n",
        "plt.hist(df_data['Dependents'])"
      ],
      "execution_count": 57,
      "outputs": [
        {
          "output_type": "execute_result",
          "data": {
            "text/plain": [
              "(array([360.,   0.,   0., 102.,   0.,   0., 101.,   0.,   0.,  51.]),\n",
              " array([0. , 0.3, 0.6, 0.9, 1.2, 1.5, 1.8, 2.1, 2.4, 2.7, 3. ]),\n",
              " <a list of 10 Patch objects>)"
            ]
          },
          "metadata": {
            "tags": []
          },
          "execution_count": 57
        },
        {
          "output_type": "display_data",
          "data": {
            "image/png": "[encoded data removed]",
            "text/plain": [
              "<Figure size 432x288 with 1 Axes>"
            ]
          },
          "metadata": {
            "tags": [],
            "needs_background": "light"
          }
        }
      ]
    },
    {
      "cell_type": "code",
      "metadata": {
        "colab": {
          "base_uri": "https://localhost:8080/"
        },
        "id": "f8JoAgD1xYCC",
        "outputId": "ba201193-44e2-4591-c977-59bed7abb882"
      },
      "source": [
        "df_data[\"ApplicantIncome\"].describe()"
      ],
      "execution_count": 60,
      "outputs": [
        {
          "output_type": "execute_result",
          "data": {
            "text/plain": [
              "count      614.000000\n",
              "mean      4914.303013\n",
              "std       3173.154644\n",
              "min       1897.550000\n",
              "25%       2877.500000\n",
              "50%       3812.500000\n",
              "75%       5795.000000\n",
              "max      14583.000000\n",
              "Name: ApplicantIncome, dtype: float64"
            ]
          },
          "metadata": {
            "tags": []
          },
          "execution_count": 60
        }
      ]
    },
    {
      "cell_type": "code",
      "metadata": {
        "colab": {
          "base_uri": "https://localhost:8080/",
          "height": 285
        },
        "id": "VM8lJBKhwHgn",
        "outputId": "d6c0d200-122e-4ac7-9945-b53f9088cddf"
      },
      "source": [
        "sns.set_theme(style=\"whitegrid\")\n",
        "ax = sns.boxplot(x=df_data[\"ApplicantIncome\"])"
      ],
      "execution_count": 58,
      "outputs": [
        {
          "output_type": "display_data",
          "data": {
            "image/png": "[encoded data removed]",
            "text/plain": [
              "<Figure size 432x288 with 1 Axes>"
            ]
          },
          "metadata": {
            "tags": []
          }
        }
      ]
    },
    {
      "cell_type": "markdown",
      "metadata": {
        "id": "swm2HT0PygWJ"
      },
      "source": [
        "**Bivariate Data Plots**"
      ]
    },
    {
      "cell_type": "code",
      "metadata": {
        "colab": {
          "base_uri": "https://localhost:8080/",
          "height": 413
        },
        "id": "CI5wpvaNykEN",
        "outputId": "d8ff6018-681f-4154-e4d8-09d405ab415f"
      },
      "source": [
        "# Identifying relationship between Applicant Income against the Loan Term\n",
        "fig, ax = plt.subplots(figsize=(14,6))\n",
        "sns.violinplot(x=\"Loan_Amount_Term\", y=\"ApplicantIncome\", data=df_data ,ax=ax) "
      ],
      "execution_count": 68,
      "outputs": [
        {
          "output_type": "execute_result",
          "data": {
            "text/plain": [
              "<matplotlib.axes._subplots.AxesSubplot at 0x7f0406893290>"
            ]
          },
          "metadata": {
            "tags": []
          },
          "execution_count": 68
        },
        {
          "output_type": "display_data",
          "data": {
            "image/png": "[encoded data removed]",
            "text/plain": [
              "<Figure size 1008x432 with 1 Axes>"
            ]
          },
          "metadata": {
            "tags": []
          }
        }
      ]
    },
    {
      "cell_type": "code",
      "metadata": {
        "colab": {
          "base_uri": "https://localhost:8080/",
          "height": 519
        },
        "id": "iaeZ13Ce0zAE",
        "outputId": "ca4f4a84-5484-4ca4-ce89-423d96c2f9ad"
      },
      "source": [
        "#Determining if Loan Amount value shows a trend as Applicant Income increases ? \n",
        "fig, ax = plt.subplots(figsize=(14,8))\n",
        "sns.lineplot(data=df_data, x=\"ApplicantIncome\", y=\"LoanAmount\",ax=ax)"
      ],
      "execution_count": 71,
      "outputs": [
        {
          "output_type": "execute_result",
          "data": {
            "text/plain": [
              "<matplotlib.axes._subplots.AxesSubplot at 0x7f04066aed10>"
            ]
          },
          "metadata": {
            "tags": []
          },
          "execution_count": 71
        },
        {
          "output_type": "display_data",
          "data": {
            "image/png": "[encoded data removed]",
            "text/plain": [
              "<Figure size 1008x576 with 1 Axes>"
            ]
          },
          "metadata": {
            "tags": []
          }
        }
      ]
    },
    {
      "cell_type": "markdown",
      "metadata": {
        "id": "3zip6c9VFSHZ"
      },
      "source": [
        "### Outlier Treatment for Continous Variables \n",
        "\n",
        "**Approaches**\n",
        "\n",
        "1.   Flooring & Capping the Outliers using Quantiles\n",
        "2.   Transformations - Logarithmic or Square Root\n",
        "\n",
        "1.   Replacement using Median Values\n",
        "2.   Removing the Outliers using IQR/Confidence Intervals\n",
        "\n",
        "\n",
        "\n",
        "\n"
      ]
    },
    {
      "cell_type": "markdown",
      "metadata": {
        "id": "h0_UXwyvZzE7"
      },
      "source": [
        "**Check Skewness & Data Distribution**"
      ]
    },
    {
      "cell_type": "code",
      "metadata": {
        "id": "TeUUokMrWYLk",
        "colab": {
          "base_uri": "https://localhost:8080/"
        },
        "outputId": "c3b8a946-3695-431e-f43e-a248c40b4661"
      },
      "source": [
        "#Check Skewness\n",
        "for i in cont_cols:\n",
        "  print(str(i)+' : '+str(df_data[i].skew()))"
      ],
      "execution_count": 11,
      "outputs": [
        {
          "output_type": "stream",
          "text": [
            "ApplicantIncome : 6.539513113994625\n",
            "CoapplicantIncome : 7.491531216657306\n",
            "LoanAmount : 2.677551679256059\n"
          ],
          "name": "stdout"
        }
      ]
    },
    {
      "cell_type": "code",
      "metadata": {
        "id": "NJizH3heWr6o",
        "colab": {
          "base_uri": "https://localhost:8080/",
          "height": 285
        },
        "outputId": "3a988dbc-03d5-435f-c8b0-4a9ada23d5cb"
      },
      "source": [
        "df_data['ApplicantIncome'].plot.kde()"
      ],
      "execution_count": 12,
      "outputs": [
        {
          "output_type": "execute_result",
          "data": {
            "text/plain": [
              "<matplotlib.axes._subplots.AxesSubplot at 0x7f040fd8a9d0>"
            ]
          },
          "metadata": {
            "tags": []
          },
          "execution_count": 12
        },
        {
          "output_type": "display_data",
          "data": {
            "image/png": "[encoded data removed]",
            "text/plain": [
              "<Figure size 432x288 with 1 Axes>"
            ]
          },
          "metadata": {
            "tags": [],
            "needs_background": "light"
          }
        }
      ]
    },
    {
      "cell_type": "code",
      "metadata": {
        "id": "Wax8de2FYfvz",
        "colab": {
          "base_uri": "https://localhost:8080/",
          "height": 282
        },
        "outputId": "b47628bb-7a66-4774-8801-a6195c0418c1"
      },
      "source": [
        "df_data['CoapplicantIncome'].plot.kde()"
      ],
      "execution_count": 13,
      "outputs": [
        {
          "output_type": "execute_result",
          "data": {
            "text/plain": [
              "<matplotlib.axes._subplots.AxesSubplot at 0x7f040dc88790>"
            ]
          },
          "metadata": {
            "tags": []
          },
          "execution_count": 13
        },
        {
          "output_type": "display_data",
          "data": {
            "image/png": "[encoded data removed]",
            "text/plain": [
              "<Figure size 432x288 with 1 Axes>"
            ]
          },
          "metadata": {
            "tags": [],
            "needs_background": "light"
          }
        }
      ]
    },
    {
      "cell_type": "code",
      "metadata": {
        "id": "bXUuYikVYffl",
        "colab": {
          "base_uri": "https://localhost:8080/",
          "height": 284
        },
        "outputId": "1ddb52df-0459-44cf-9281-2226c564a4e8"
      },
      "source": [
        "df_data['LoanAmount'].plot.kde()"
      ],
      "execution_count": 14,
      "outputs": [
        {
          "output_type": "execute_result",
          "data": {
            "text/plain": [
              "<matplotlib.axes._subplots.AxesSubplot at 0x7f040d7c1290>"
            ]
          },
          "metadata": {
            "tags": []
          },
          "execution_count": 14
        },
        {
          "output_type": "display_data",
          "data": {
            "image/png": "[encoded data removed]",
            "text/plain": [
              "<Figure size 432x288 with 1 Axes>"
            ]
          },
          "metadata": {
            "tags": [],
            "needs_background": "light"
          }
        }
      ]
    },
    {
      "cell_type": "markdown",
      "metadata": {
        "id": "2kwsHh3CdVn4"
      },
      "source": [
        "**Outlier Handling using Quantile based capping**"
      ]
    },
    {
      "cell_type": "code",
      "metadata": {
        "id": "Gtq_QYdsZsN-",
        "colab": {
          "base_uri": "https://localhost:8080/"
        },
        "outputId": "9837affd-11b3-4014-8fc6-41665e30b5e6"
      },
      "source": [
        "#Using Quantile flooring  at 5% & 95%\n",
        "for i in cont_cols:\n",
        "  #Defning the lower & upper cap/cutoff\n",
        "  lower_cutoff = df_data[i].quantile(0.05)\n",
        "  upper_cutoff = df_data[i].quantile(0.95)\n",
        "  #Replacing the Outliers from both ends with capped cutoffs\n",
        "  df_data[i] = np.where(df_data[i] < lower_cutoff,lower_cutoff,df_data[i])\n",
        "  df_data[i] = np.where(df_data[i] > upper_cutoff, upper_cutoff,df_data[i])\n",
        "  print('Revised skew after Outlier handling '+str(i)+' : '+str(df_data[i].skew()))"
      ],
      "execution_count": 15,
      "outputs": [
        {
          "output_type": "stream",
          "text": [
            "Revised skew after Outlier handling ApplicantIncome : 1.7637799807028802\n",
            "Revised skew after Outlier handling CoapplicantIncome : 0.8452039718003408\n",
            "Revised skew after Outlier handling LoanAmount : 1.0594654991821644\n"
          ],
          "name": "stdout"
        }
      ]
    },
    {
      "cell_type": "code",
      "metadata": {
        "id": "Nh_GYpFmc389",
        "colab": {
          "base_uri": "https://localhost:8080/",
          "height": 282
        },
        "outputId": "a003ee4b-2487-4b7f-b9dd-97863b55a555"
      },
      "source": [
        "df_data['CoapplicantIncome'].plot.kde()"
      ],
      "execution_count": 16,
      "outputs": [
        {
          "output_type": "execute_result",
          "data": {
            "text/plain": [
              "<matplotlib.axes._subplots.AxesSubplot at 0x7f040d7a0990>"
            ]
          },
          "metadata": {
            "tags": []
          },
          "execution_count": 16
        },
        {
          "output_type": "display_data",
          "data": {
            "image/png": "[encoded data removed]",
            "text/plain": [
              "<Figure size 432x288 with 1 Axes>"
            ]
          },
          "metadata": {
            "tags": [],
            "needs_background": "light"
          }
        }
      ]
    },
    {
      "cell_type": "markdown",
      "metadata": {
        "id": "v514E1W6wxfI"
      },
      "source": [
        "### Performing Log Transformation for Outlier Treatment"
      ]
    },
    {
      "cell_type": "code",
      "metadata": {
        "id": "9UhUBtr3vtsb",
        "colab": {
          "base_uri": "https://localhost:8080/",
          "height": 298
        },
        "outputId": "bea80c7d-d3d8-410c-d5d9-2dc003005521"
      },
      "source": [
        "df_data[\"Log_CoapplicantIncome\"] = df_data[\"CoapplicantIncome\"].map(lambda i: np.log(i) if i > 0 else 0) \n",
        "print(df_data['Log_CoapplicantIncome'].skew())\n",
        "df_data['Log_CoapplicantIncome'].plot.kde()"
      ],
      "execution_count": 17,
      "outputs": [
        {
          "output_type": "stream",
          "text": [
            "-0.18689617502427236\n"
          ],
          "name": "stdout"
        },
        {
          "output_type": "execute_result",
          "data": {
            "text/plain": [
              "<matplotlib.axes._subplots.AxesSubplot at 0x7f040cc79d50>"
            ]
          },
          "metadata": {
            "tags": []
          },
          "execution_count": 17
        },
        {
          "output_type": "display_data",
          "data": {
            "image/png": "[encoded data removed]",
            "text/plain": [
              "<Figure size 432x288 with 1 Axes>"
            ]
          },
          "metadata": {
            "tags": [],
            "needs_background": "light"
          }
        }
      ]
    },
    {
      "cell_type": "code",
      "metadata": {
        "id": "rTxOCsNUw7rA",
        "colab": {
          "base_uri": "https://localhost:8080/"
        },
        "outputId": "a1534f07-4fd4-4c4a-838f-cf3dba786149"
      },
      "source": [
        "#df_data = df_data.drop(columns=[\"Log_CoapplicantIncome\"])\n",
        "df_data.columns"
      ],
      "execution_count": 18,
      "outputs": [
        {
          "output_type": "execute_result",
          "data": {
            "text/plain": [
              "Index(['Gender', 'Married', 'Dependents', 'Education', 'Self_Employed',\n",
              "       'ApplicantIncome', 'CoapplicantIncome', 'LoanAmount',\n",
              "       'Loan_Amount_Term', 'Credit_History', 'Property_Area', 'Loan_Status',\n",
              "       'Log_CoapplicantIncome'],\n",
              "      dtype='object')"
            ]
          },
          "metadata": {
            "tags": []
          },
          "execution_count": 18
        }
      ]
    },
    {
      "cell_type": "markdown",
      "metadata": {
        "id": "ih79uWoitCCB"
      },
      "source": [
        "###  Handling Missing Data"
      ]
    },
    {
      "cell_type": "code",
      "metadata": {
        "id": "Gph4N4yFYVuj",
        "colab": {
          "base_uri": "https://localhost:8080/",
          "height": 265
        },
        "outputId": "f375edba-a46d-4040-d5e8-7f8061baa583"
      },
      "source": [
        "#Missing Features\n",
        "#Remove a column when populated < 50%\n",
        "mis_data =pd.DataFrame(df_data.count(axis=0)).reset_index()\n",
        "mis_data.columns =[\"Feature\",\"Total_Populated\"]\n",
        "mis_data =mis_data[(mis_data['Total_Populated'] < df_data.shape[0])]\n",
        "mis_data"
      ],
      "execution_count": 19,
      "outputs": [
        {
          "output_type": "execute_result",
          "data": {
            "text/html": [
              "<div>\n",
              "<style scoped>\n",
              "    .dataframe tbody tr th:only-of-type {\n",
              "        vertical-align: middle;\n",
              "    }\n",
              "\n",
              "    .dataframe tbody tr th {\n",
              "        vertical-align: top;\n",
              "    }\n",
              "\n",
              "    .dataframe thead th {\n",
              "        text-align: right;\n",
              "    }\n",
              "</style>\n",
              "<table border=\"1\" class=\"dataframe\">\n",
              "  <thead>\n",
              "    <tr style=\"text-align: right;\">\n",
              "      <th></th>\n",
              "      <th>Feature</th>\n",
              "      <th>Total_Populated</th>\n",
              "    </tr>\n",
              "  </thead>\n",
              "  <tbody>\n",
              "    <tr>\n",
              "      <th>0</th>\n",
              "      <td>Gender</td>\n",
              "      <td>601</td>\n",
              "    </tr>\n",
              "    <tr>\n",
              "      <th>1</th>\n",
              "      <td>Married</td>\n",
              "      <td>611</td>\n",
              "    </tr>\n",
              "    <tr>\n",
              "      <th>2</th>\n",
              "      <td>Dependents</td>\n",
              "      <td>599</td>\n",
              "    </tr>\n",
              "    <tr>\n",
              "      <th>4</th>\n",
              "      <td>Self_Employed</td>\n",
              "      <td>582</td>\n",
              "    </tr>\n",
              "    <tr>\n",
              "      <th>7</th>\n",
              "      <td>LoanAmount</td>\n",
              "      <td>592</td>\n",
              "    </tr>\n",
              "    <tr>\n",
              "      <th>8</th>\n",
              "      <td>Loan_Amount_Term</td>\n",
              "      <td>600</td>\n",
              "    </tr>\n",
              "    <tr>\n",
              "      <th>9</th>\n",
              "      <td>Credit_History</td>\n",
              "      <td>564</td>\n",
              "    </tr>\n",
              "  </tbody>\n",
              "</table>\n",
              "</div>"
            ],
            "text/plain": [
              "            Feature  Total_Populated\n",
              "0            Gender              601\n",
              "1           Married              611\n",
              "2        Dependents              599\n",
              "4     Self_Employed              582\n",
              "7        LoanAmount              592\n",
              "8  Loan_Amount_Term              600\n",
              "9    Credit_History              564"
            ]
          },
          "metadata": {
            "tags": []
          },
          "execution_count": 19
        }
      ]
    },
    {
      "cell_type": "markdown",
      "metadata": {
        "id": "J2pyqHwTtIyz"
      },
      "source": [
        "### Sparsity of Records"
      ]
    },
    {
      "cell_type": "code",
      "metadata": {
        "id": "HDUC4lYurQ9f",
        "colab": {
          "base_uri": "https://localhost:8080/",
          "height": 49
        },
        "outputId": "36173da2-bee7-41e5-a6cb-593661676b9e"
      },
      "source": [
        "#Checking Sparse rows , if >= 33.3% of columns of a record is not populated then remove the record itself\n",
        "# Found no record Sparsely populated\n",
        "rows_missing = df_data.isnull().sum(axis=1).reset_index() \n",
        "rows_missing.columns = ['row','mis_cnt']\n",
        "rows_missing[(rows_missing['mis_cnt'] > int(df_data.shape[1]/3))]"
      ],
      "execution_count": 20,
      "outputs": [
        {
          "output_type": "execute_result",
          "data": {
            "text/html": [
              "<div>\n",
              "<style scoped>\n",
              "    .dataframe tbody tr th:only-of-type {\n",
              "        vertical-align: middle;\n",
              "    }\n",
              "\n",
              "    .dataframe tbody tr th {\n",
              "        vertical-align: top;\n",
              "    }\n",
              "\n",
              "    .dataframe thead th {\n",
              "        text-align: right;\n",
              "    }\n",
              "</style>\n",
              "<table border=\"1\" class=\"dataframe\">\n",
              "  <thead>\n",
              "    <tr style=\"text-align: right;\">\n",
              "      <th></th>\n",
              "      <th>row</th>\n",
              "      <th>mis_cnt</th>\n",
              "    </tr>\n",
              "  </thead>\n",
              "  <tbody>\n",
              "  </tbody>\n",
              "</table>\n",
              "</div>"
            ],
            "text/plain": [
              "Empty DataFrame\n",
              "Columns: [row, mis_cnt]\n",
              "Index: []"
            ]
          },
          "metadata": {
            "tags": []
          },
          "execution_count": 20
        }
      ]
    },
    {
      "cell_type": "markdown",
      "metadata": {
        "id": "Cs6sQlrruX0r"
      },
      "source": [
        "###  Missing values Imputation - Approaches\n",
        "\n",
        "1. Categorical with Mode , Continous with Median or Mean (if Outliers are handled)\n",
        "\n",
        "2. Use the previous or next value for the column ( Pandas .fillna *method* -{ffill ,bfill}) *when data shows a trend*\n",
        "\n",
        "3. Utilize other fields to derive the value.Observations via bi-variate, multivariate analysis \n",
        "4.Impute(Categorical data only) an unseen/dummy constant value : -99 or 100000000 ,'aaaa', 'xyzxyz'\n"
      ]
    },
    {
      "cell_type": "markdown",
      "metadata": {
        "id": "USQnYbj2gQ6y"
      },
      "source": [
        "**Populate the Missing values in Categorical columns with Mode value**"
      ]
    },
    {
      "cell_type": "code",
      "metadata": {
        "id": "7P7Uj972lQx-",
        "colab": {
          "base_uri": "https://localhost:8080/"
        },
        "outputId": "663a298f-6984-4ace-9048-437a90f34ed1"
      },
      "source": [
        "#Mode value for every field\n",
        "df_data.mode().iloc[0]"
      ],
      "execution_count": 21,
      "outputs": [
        {
          "output_type": "execute_result",
          "data": {
            "text/plain": [
              "Gender                        Male\n",
              "Married                        Yes\n",
              "Dependents                       0\n",
              "Education                 Graduate\n",
              "Self_Employed                   No\n",
              "ApplicantIncome              14583\n",
              "CoapplicantIncome                0\n",
              "LoanAmount                      56\n",
              "Loan_Amount_Term               360\n",
              "Credit_History                   1\n",
              "Property_Area            Semiurban\n",
              "Loan_Status                      Y\n",
              "Log_CoapplicantIncome            0\n",
              "Name: 0, dtype: object"
            ]
          },
          "metadata": {
            "tags": []
          },
          "execution_count": 21
        }
      ]
    },
    {
      "cell_type": "code",
      "metadata": {
        "id": "zQGU-94UmGKh",
        "colab": {
          "base_uri": "https://localhost:8080/"
        },
        "outputId": "2b9d6c12-5280-4641-f59d-41ad7a173a74"
      },
      "source": [
        "#Categorical Columns with missing values\n",
        "df_data[cat_cols].isnull().sum()"
      ],
      "execution_count": 22,
      "outputs": [
        {
          "output_type": "execute_result",
          "data": {
            "text/plain": [
              "Loan_Amount_Term    14\n",
              "Property_Area        0\n",
              "Self_Employed       32\n",
              "Loan_Status          0\n",
              "Gender              13\n",
              "Dependents          15\n",
              "Married              3\n",
              "Credit_History      50\n",
              "Education            0\n",
              "dtype: int64"
            ]
          },
          "metadata": {
            "tags": []
          },
          "execution_count": 22
        }
      ]
    },
    {
      "cell_type": "code",
      "metadata": {
        "id": "cs_QiJp6zIPX"
      },
      "source": [
        "#Populating Categorical with Mode\n",
        "for cols in cat_cols:\n",
        "  if ( df_data[cols].isnull().sum() > 0):\n",
        "    df_data[cols] = df_data[cols].fillna(df_data[cols].mode().iloc[0])"
      ],
      "execution_count": 23,
      "outputs": []
    },
    {
      "cell_type": "code",
      "metadata": {
        "id": "K7YFbTMYmn9N",
        "colab": {
          "base_uri": "https://localhost:8080/"
        },
        "outputId": "de4020a0-48fa-49a7-aa16-e80b769bc4bd"
      },
      "source": [
        "#Checking for missing values post Mode imputation\n",
        "df_data[cat_cols].isnull().sum()"
      ],
      "execution_count": 24,
      "outputs": [
        {
          "output_type": "execute_result",
          "data": {
            "text/plain": [
              "Loan_Amount_Term    0\n",
              "Property_Area       0\n",
              "Self_Employed       0\n",
              "Loan_Status         0\n",
              "Gender              0\n",
              "Dependents          0\n",
              "Married             0\n",
              "Credit_History      0\n",
              "Education           0\n",
              "dtype: int64"
            ]
          },
          "metadata": {
            "tags": []
          },
          "execution_count": 24
        }
      ]
    },
    {
      "cell_type": "markdown",
      "metadata": {
        "id": "Hsr6r3NpgUS5"
      },
      "source": [
        "**Populate the Missing Values in Continous Columns value with Median**"
      ]
    },
    {
      "cell_type": "code",
      "metadata": {
        "id": "aJgsk2Qam9Lh",
        "colab": {
          "base_uri": "https://localhost:8080/"
        },
        "outputId": "b4bb1740-4c8e-486f-cdc9-79b8d7cfe2d8"
      },
      "source": [
        "df_data.median()"
      ],
      "execution_count": 25,
      "outputs": [
        {
          "output_type": "execute_result",
          "data": {
            "text/plain": [
              "ApplicantIncome          3812.500000\n",
              "CoapplicantIncome        1188.500000\n",
              "LoanAmount                128.000000\n",
              "Loan_Amount_Term          360.000000\n",
              "Credit_History              1.000000\n",
              "Log_CoapplicantIncome       7.080284\n",
              "dtype: float64"
            ]
          },
          "metadata": {
            "tags": []
          },
          "execution_count": 25
        }
      ]
    },
    {
      "cell_type": "code",
      "metadata": {
        "id": "YMXTYZy4nY9s",
        "colab": {
          "base_uri": "https://localhost:8080/"
        },
        "outputId": "9b6864f3-7567-4608-daaf-70605951418a"
      },
      "source": [
        "#Check which of continous columns have missing value\n",
        "df_data[cont_cols].isnull().sum()"
      ],
      "execution_count": 26,
      "outputs": [
        {
          "output_type": "execute_result",
          "data": {
            "text/plain": [
              "ApplicantIncome       0\n",
              "CoapplicantIncome     0\n",
              "LoanAmount           22\n",
              "dtype: int64"
            ]
          },
          "metadata": {
            "tags": []
          },
          "execution_count": 26
        }
      ]
    },
    {
      "cell_type": "code",
      "metadata": {
        "id": "LdtBYvenoBLj"
      },
      "source": [
        "#Populate Continous with Median\n",
        "for cols in cont_cols:\n",
        "  if ( df_data[cols].isnull().sum() > 0):\n",
        "    df_data[cols] = df_data[cols].fillna(df_data[cols].median())"
      ],
      "execution_count": 27,
      "outputs": []
    },
    {
      "cell_type": "code",
      "metadata": {
        "id": "u6pwH7fuoe7Q",
        "colab": {
          "base_uri": "https://localhost:8080/"
        },
        "outputId": "bd6f4d90-6bd9-4841-8405-c4e6e377fec8"
      },
      "source": [
        "#Check which of continous columns have missing value\n",
        "df_data[cont_cols].isnull().sum()"
      ],
      "execution_count": 28,
      "outputs": [
        {
          "output_type": "execute_result",
          "data": {
            "text/plain": [
              "ApplicantIncome      0\n",
              "CoapplicantIncome    0\n",
              "LoanAmount           0\n",
              "dtype: int64"
            ]
          },
          "metadata": {
            "tags": []
          },
          "execution_count": 28
        }
      ]
    },
    {
      "cell_type": "code",
      "metadata": {
        "id": "RPGy0r8yC80h",
        "colab": {
          "base_uri": "https://localhost:8080/"
        },
        "outputId": "970797b3-f638-4be5-a284-d9ab1421a130"
      },
      "source": [
        "df_data.shape"
      ],
      "execution_count": 29,
      "outputs": [
        {
          "output_type": "execute_result",
          "data": {
            "text/plain": [
              "(614, 13)"
            ]
          },
          "metadata": {
            "tags": []
          },
          "execution_count": 29
        }
      ]
    },
    {
      "cell_type": "markdown",
      "metadata": {
        "id": "7RLyjC-uooFq"
      },
      "source": [
        "### Encoding of Data"
      ]
    },
    {
      "cell_type": "markdown",
      "metadata": {
        "id": "daoEYgEB0MoO"
      },
      "source": [
        "**Splitting across the Target variable & Label Encode**"
      ]
    },
    {
      "cell_type": "code",
      "metadata": {
        "id": "gXsYA0Se0Tli",
        "colab": {
          "base_uri": "https://localhost:8080/"
        },
        "outputId": "5cd15244-8389-4ee6-9701-0169a240f59f"
      },
      "source": [
        "df_data.columns"
      ],
      "execution_count": 30,
      "outputs": [
        {
          "output_type": "execute_result",
          "data": {
            "text/plain": [
              "Index(['Gender', 'Married', 'Dependents', 'Education', 'Self_Employed',\n",
              "       'ApplicantIncome', 'CoapplicantIncome', 'LoanAmount',\n",
              "       'Loan_Amount_Term', 'Credit_History', 'Property_Area', 'Loan_Status',\n",
              "       'Log_CoapplicantIncome'],\n",
              "      dtype='object')"
            ]
          },
          "metadata": {
            "tags": []
          },
          "execution_count": 30
        }
      ]
    },
    {
      "cell_type": "code",
      "metadata": {
        "id": "Y4ysK9130ZUL",
        "colab": {
          "base_uri": "https://localhost:8080/",
          "height": 203
        },
        "outputId": "9d0c36e4-21ec-413b-a6da-1a727c2841d1"
      },
      "source": [
        "le = LabelEncoder()\n",
        "df_target = pd.DataFrame(le.fit_transform(df_data['Loan_Status']))\n",
        "df_target.columns = (['Loan_Status'])\n",
        "df_target.head()\n"
      ],
      "execution_count": 31,
      "outputs": [
        {
          "output_type": "execute_result",
          "data": {
            "text/html": [
              "<div>\n",
              "<style scoped>\n",
              "    .dataframe tbody tr th:only-of-type {\n",
              "        vertical-align: middle;\n",
              "    }\n",
              "\n",
              "    .dataframe tbody tr th {\n",
              "        vertical-align: top;\n",
              "    }\n",
              "\n",
              "    .dataframe thead th {\n",
              "        text-align: right;\n",
              "    }\n",
              "</style>\n",
              "<table border=\"1\" class=\"dataframe\">\n",
              "  <thead>\n",
              "    <tr style=\"text-align: right;\">\n",
              "      <th></th>\n",
              "      <th>Loan_Status</th>\n",
              "    </tr>\n",
              "  </thead>\n",
              "  <tbody>\n",
              "    <tr>\n",
              "      <th>0</th>\n",
              "      <td>1</td>\n",
              "    </tr>\n",
              "    <tr>\n",
              "      <th>1</th>\n",
              "      <td>0</td>\n",
              "    </tr>\n",
              "    <tr>\n",
              "      <th>2</th>\n",
              "      <td>1</td>\n",
              "    </tr>\n",
              "    <tr>\n",
              "      <th>3</th>\n",
              "      <td>1</td>\n",
              "    </tr>\n",
              "    <tr>\n",
              "      <th>4</th>\n",
              "      <td>1</td>\n",
              "    </tr>\n",
              "  </tbody>\n",
              "</table>\n",
              "</div>"
            ],
            "text/plain": [
              "   Loan_Status\n",
              "0            1\n",
              "1            0\n",
              "2            1\n",
              "3            1\n",
              "4            1"
            ]
          },
          "metadata": {
            "tags": []
          },
          "execution_count": 31
        }
      ]
    },
    {
      "cell_type": "code",
      "metadata": {
        "id": "rrhxuKvk82kA",
        "colab": {
          "base_uri": "https://localhost:8080/"
        },
        "outputId": "47985863-2c55-4093-f2b0-e68333267a89"
      },
      "source": [
        "print(df_target['Loan_Status'].value_counts())\n",
        "lbl_1,lbl_0 = df_target['Loan_Status'].value_counts()\n",
        "print(\"Label 1 class %age: \"+str((lbl_1*100)/df_target['Loan_Status'].count()))\n",
        "print(\"Label 0 class %age: \"+str((lbl_0*100)/df_target['Loan_Status'].count()))"
      ],
      "execution_count": 32,
      "outputs": [
        {
          "output_type": "stream",
          "text": [
            "1    422\n",
            "0    192\n",
            "Name: Loan_Status, dtype: int64\n",
            "Label 1 class %age: 68.72964169381108\n",
            "Label 0 class %age: 31.270358306188925\n"
          ],
          "name": "stdout"
        }
      ]
    },
    {
      "cell_type": "code",
      "metadata": {
        "id": "AR9B9Pg00ZRC",
        "colab": {
          "base_uri": "https://localhost:8080/"
        },
        "outputId": "dfff3d6e-0994-46dd-f074-f207541ae304"
      },
      "source": [
        "df_data=df_data.drop(columns='Loan_Status')\n",
        "df_data.columns"
      ],
      "execution_count": 33,
      "outputs": [
        {
          "output_type": "execute_result",
          "data": {
            "text/plain": [
              "Index(['Gender', 'Married', 'Dependents', 'Education', 'Self_Employed',\n",
              "       'ApplicantIncome', 'CoapplicantIncome', 'LoanAmount',\n",
              "       'Loan_Amount_Term', 'Credit_History', 'Property_Area',\n",
              "       'Log_CoapplicantIncome'],\n",
              "      dtype='object')"
            ]
          },
          "metadata": {
            "tags": []
          },
          "execution_count": 33
        }
      ]
    },
    {
      "cell_type": "markdown",
      "metadata": {
        "id": "4N2-AVIe5xVL"
      },
      "source": [
        "### Label Encode the Categorical Columns"
      ]
    },
    {
      "cell_type": "code",
      "metadata": {
        "id": "-SOnkVjX7aiS"
      },
      "source": [
        "df_le = df_data.copy()"
      ],
      "execution_count": 34,
      "outputs": []
    },
    {
      "cell_type": "code",
      "metadata": {
        "id": "ahWHQ-9o7-Z8",
        "colab": {
          "base_uri": "https://localhost:8080/"
        },
        "outputId": "73dbf7fe-df18-4bb5-c7f1-063770f63852"
      },
      "source": [
        "cat_cols = list(set(cat_cols) - set(['Loan_Status']))\n",
        "cat_cols"
      ],
      "execution_count": 35,
      "outputs": [
        {
          "output_type": "execute_result",
          "data": {
            "text/plain": [
              "['Loan_Amount_Term',\n",
              " 'Property_Area',\n",
              " 'Self_Employed',\n",
              " 'Gender',\n",
              " 'Dependents',\n",
              " 'Married',\n",
              " 'Credit_History',\n",
              " 'Education']"
            ]
          },
          "metadata": {
            "tags": []
          },
          "execution_count": 35
        }
      ]
    },
    {
      "cell_type": "code",
      "metadata": {
        "id": "vNyXq30052Rh",
        "colab": {
          "base_uri": "https://localhost:8080/",
          "height": 223
        },
        "outputId": "4b9e3584-7af3-4be7-f19c-9f3aac1d6852"
      },
      "source": [
        "for j in cat_cols :\n",
        "  df_le['enc_'+str(j)] = le.fit_transform(df_le[j])\n",
        "df_loan_le = df_le.drop(columns = cat_cols)\n",
        "df_loan_le.head()"
      ],
      "execution_count": 36,
      "outputs": [
        {
          "output_type": "execute_result",
          "data": {
            "text/html": [
              "<div>\n",
              "<style scoped>\n",
              "    .dataframe tbody tr th:only-of-type {\n",
              "        vertical-align: middle;\n",
              "    }\n",
              "\n",
              "    .dataframe tbody tr th {\n",
              "        vertical-align: top;\n",
              "    }\n",
              "\n",
              "    .dataframe thead th {\n",
              "        text-align: right;\n",
              "    }\n",
              "</style>\n",
              "<table border=\"1\" class=\"dataframe\">\n",
              "  <thead>\n",
              "    <tr style=\"text-align: right;\">\n",
              "      <th></th>\n",
              "      <th>ApplicantIncome</th>\n",
              "      <th>CoapplicantIncome</th>\n",
              "      <th>LoanAmount</th>\n",
              "      <th>Log_CoapplicantIncome</th>\n",
              "      <th>enc_Loan_Amount_Term</th>\n",
              "      <th>enc_Property_Area</th>\n",
              "      <th>enc_Self_Employed</th>\n",
              "      <th>enc_Gender</th>\n",
              "      <th>enc_Dependents</th>\n",
              "      <th>enc_Married</th>\n",
              "      <th>enc_Credit_History</th>\n",
              "      <th>enc_Education</th>\n",
              "    </tr>\n",
              "  </thead>\n",
              "  <tbody>\n",
              "    <tr>\n",
              "      <th>0</th>\n",
              "      <td>5849.0</td>\n",
              "      <td>0.0</td>\n",
              "      <td>128.0</td>\n",
              "      <td>0.000000</td>\n",
              "      <td>8</td>\n",
              "      <td>2</td>\n",
              "      <td>0</td>\n",
              "      <td>1</td>\n",
              "      <td>0</td>\n",
              "      <td>0</td>\n",
              "      <td>1</td>\n",
              "      <td>0</td>\n",
              "    </tr>\n",
              "    <tr>\n",
              "      <th>1</th>\n",
              "      <td>4583.0</td>\n",
              "      <td>1508.0</td>\n",
              "      <td>128.0</td>\n",
              "      <td>7.318540</td>\n",
              "      <td>8</td>\n",
              "      <td>0</td>\n",
              "      <td>0</td>\n",
              "      <td>1</td>\n",
              "      <td>1</td>\n",
              "      <td>1</td>\n",
              "      <td>1</td>\n",
              "      <td>0</td>\n",
              "    </tr>\n",
              "    <tr>\n",
              "      <th>2</th>\n",
              "      <td>3000.0</td>\n",
              "      <td>0.0</td>\n",
              "      <td>66.0</td>\n",
              "      <td>0.000000</td>\n",
              "      <td>8</td>\n",
              "      <td>2</td>\n",
              "      <td>1</td>\n",
              "      <td>1</td>\n",
              "      <td>0</td>\n",
              "      <td>1</td>\n",
              "      <td>1</td>\n",
              "      <td>0</td>\n",
              "    </tr>\n",
              "    <tr>\n",
              "      <th>3</th>\n",
              "      <td>2583.0</td>\n",
              "      <td>2358.0</td>\n",
              "      <td>120.0</td>\n",
              "      <td>7.765569</td>\n",
              "      <td>8</td>\n",
              "      <td>2</td>\n",
              "      <td>0</td>\n",
              "      <td>1</td>\n",
              "      <td>0</td>\n",
              "      <td>1</td>\n",
              "      <td>1</td>\n",
              "      <td>1</td>\n",
              "    </tr>\n",
              "    <tr>\n",
              "      <th>4</th>\n",
              "      <td>6000.0</td>\n",
              "      <td>0.0</td>\n",
              "      <td>141.0</td>\n",
              "      <td>0.000000</td>\n",
              "      <td>8</td>\n",
              "      <td>2</td>\n",
              "      <td>0</td>\n",
              "      <td>1</td>\n",
              "      <td>0</td>\n",
              "      <td>0</td>\n",
              "      <td>1</td>\n",
              "      <td>0</td>\n",
              "    </tr>\n",
              "  </tbody>\n",
              "</table>\n",
              "</div>"
            ],
            "text/plain": [
              "   ApplicantIncome  CoapplicantIncome  ...  enc_Credit_History  enc_Education\n",
              "0           5849.0                0.0  ...                   1              0\n",
              "1           4583.0             1508.0  ...                   1              0\n",
              "2           3000.0                0.0  ...                   1              0\n",
              "3           2583.0             2358.0  ...                   1              1\n",
              "4           6000.0                0.0  ...                   1              0\n",
              "\n",
              "[5 rows x 12 columns]"
            ]
          },
          "metadata": {
            "tags": []
          },
          "execution_count": 36
        }
      ]
    },
    {
      "cell_type": "code",
      "metadata": {
        "id": "nBuL7uQf8NUx",
        "colab": {
          "base_uri": "https://localhost:8080/"
        },
        "outputId": "b283a20a-9ac0-4694-f03c-cf153cf28229"
      },
      "source": [
        "df_loan_le.shape"
      ],
      "execution_count": 37,
      "outputs": [
        {
          "output_type": "execute_result",
          "data": {
            "text/plain": [
              "(614, 12)"
            ]
          },
          "metadata": {
            "tags": []
          },
          "execution_count": 37
        }
      ]
    },
    {
      "cell_type": "markdown",
      "metadata": {
        "id": "O7erlNPQ6_4h"
      },
      "source": [
        "### OHE Categorical Columns"
      ]
    },
    {
      "cell_type": "code",
      "metadata": {
        "id": "hvdb0Lga738U"
      },
      "source": [
        "df_ohe = df_data.copy()"
      ],
      "execution_count": 38,
      "outputs": []
    },
    {
      "cell_type": "code",
      "metadata": {
        "id": "3tgFAdia7T9f",
        "colab": {
          "base_uri": "https://localhost:8080/"
        },
        "outputId": "e1d825ef-609b-473c-8c51-165f97122f66"
      },
      "source": [
        "cat_cols"
      ],
      "execution_count": 39,
      "outputs": [
        {
          "output_type": "execute_result",
          "data": {
            "text/plain": [
              "['Loan_Amount_Term',\n",
              " 'Property_Area',\n",
              " 'Self_Employed',\n",
              " 'Gender',\n",
              " 'Dependents',\n",
              " 'Married',\n",
              " 'Credit_History',\n",
              " 'Education']"
            ]
          },
          "metadata": {
            "tags": []
          },
          "execution_count": 39
        }
      ]
    },
    {
      "cell_type": "code",
      "metadata": {
        "id": "0x57Q-fY7ECD",
        "colab": {
          "base_uri": "https://localhost:8080/",
          "height": 240
        },
        "outputId": "2558fac2-353f-4d5e-8aaf-9a2f47952208"
      },
      "source": [
        "for j in cat_cols :\n",
        "   df_ohe = pd.get_dummies(df_ohe, columns=[j], prefix=[j] )\n",
        "df_ohe.head()"
      ],
      "execution_count": 40,
      "outputs": [
        {
          "output_type": "execute_result",
          "data": {
            "text/html": [
              "<div>\n",
              "<style scoped>\n",
              "    .dataframe tbody tr th:only-of-type {\n",
              "        vertical-align: middle;\n",
              "    }\n",
              "\n",
              "    .dataframe tbody tr th {\n",
              "        vertical-align: top;\n",
              "    }\n",
              "\n",
              "    .dataframe thead th {\n",
              "        text-align: right;\n",
              "    }\n",
              "</style>\n",
              "<table border=\"1\" class=\"dataframe\">\n",
              "  <thead>\n",
              "    <tr style=\"text-align: right;\">\n",
              "      <th></th>\n",
              "      <th>ApplicantIncome</th>\n",
              "      <th>CoapplicantIncome</th>\n",
              "      <th>LoanAmount</th>\n",
              "      <th>Log_CoapplicantIncome</th>\n",
              "      <th>Loan_Amount_Term_12.0</th>\n",
              "      <th>Loan_Amount_Term_36.0</th>\n",
              "      <th>Loan_Amount_Term_60.0</th>\n",
              "      <th>Loan_Amount_Term_84.0</th>\n",
              "      <th>Loan_Amount_Term_120.0</th>\n",
              "      <th>Loan_Amount_Term_180.0</th>\n",
              "      <th>Loan_Amount_Term_240.0</th>\n",
              "      <th>Loan_Amount_Term_300.0</th>\n",
              "      <th>Loan_Amount_Term_360.0</th>\n",
              "      <th>Loan_Amount_Term_480.0</th>\n",
              "      <th>Property_Area_Rural</th>\n",
              "      <th>Property_Area_Semiurban</th>\n",
              "      <th>Property_Area_Urban</th>\n",
              "      <th>Self_Employed_No</th>\n",
              "      <th>Self_Employed_Yes</th>\n",
              "      <th>Gender_Female</th>\n",
              "      <th>Gender_Male</th>\n",
              "      <th>Dependents_0</th>\n",
              "      <th>Dependents_1</th>\n",
              "      <th>Dependents_2</th>\n",
              "      <th>Dependents_3+</th>\n",
              "      <th>Married_No</th>\n",
              "      <th>Married_Yes</th>\n",
              "      <th>Credit_History_0.0</th>\n",
              "      <th>Credit_History_1.0</th>\n",
              "      <th>Education_Graduate</th>\n",
              "      <th>Education_Not Graduate</th>\n",
              "    </tr>\n",
              "  </thead>\n",
              "  <tbody>\n",
              "    <tr>\n",
              "      <th>0</th>\n",
              "      <td>5849.0</td>\n",
              "      <td>0.0</td>\n",
              "      <td>128.0</td>\n",
              "      <td>0.000000</td>\n",
              "      <td>0</td>\n",
              "      <td>0</td>\n",
              "      <td>0</td>\n",
              "      <td>0</td>\n",
              "      <td>0</td>\n",
              "      <td>0</td>\n",
              "      <td>0</td>\n",
              "      <td>0</td>\n",
              "      <td>1</td>\n",
              "      <td>0</td>\n",
              "      <td>0</td>\n",
              "      <td>0</td>\n",
              "      <td>1</td>\n",
              "      <td>1</td>\n",
              "      <td>0</td>\n",
              "      <td>0</td>\n",
              "      <td>1</td>\n",
              "      <td>1</td>\n",
              "      <td>0</td>\n",
              "      <td>0</td>\n",
              "      <td>0</td>\n",
              "      <td>1</td>\n",
              "      <td>0</td>\n",
              "      <td>0</td>\n",
              "      <td>1</td>\n",
              "      <td>1</td>\n",
              "      <td>0</td>\n",
              "    </tr>\n",
              "    <tr>\n",
              "      <th>1</th>\n",
              "      <td>4583.0</td>\n",
              "      <td>1508.0</td>\n",
              "      <td>128.0</td>\n",
              "      <td>7.318540</td>\n",
              "      <td>0</td>\n",
              "      <td>0</td>\n",
              "      <td>0</td>\n",
              "      <td>0</td>\n",
              "      <td>0</td>\n",
              "      <td>0</td>\n",
              "      <td>0</td>\n",
              "      <td>0</td>\n",
              "      <td>1</td>\n",
              "      <td>0</td>\n",
              "      <td>1</td>\n",
              "      <td>0</td>\n",
              "      <td>0</td>\n",
              "      <td>1</td>\n",
              "      <td>0</td>\n",
              "      <td>0</td>\n",
              "      <td>1</td>\n",
              "      <td>0</td>\n",
              "      <td>1</td>\n",
              "      <td>0</td>\n",
              "      <td>0</td>\n",
              "      <td>0</td>\n",
              "      <td>1</td>\n",
              "      <td>0</td>\n",
              "      <td>1</td>\n",
              "      <td>1</td>\n",
              "      <td>0</td>\n",
              "    </tr>\n",
              "    <tr>\n",
              "      <th>2</th>\n",
              "      <td>3000.0</td>\n",
              "      <td>0.0</td>\n",
              "      <td>66.0</td>\n",
              "      <td>0.000000</td>\n",
              "      <td>0</td>\n",
              "      <td>0</td>\n",
              "      <td>0</td>\n",
              "      <td>0</td>\n",
              "      <td>0</td>\n",
              "      <td>0</td>\n",
              "      <td>0</td>\n",
              "      <td>0</td>\n",
              "      <td>1</td>\n",
              "      <td>0</td>\n",
              "      <td>0</td>\n",
              "      <td>0</td>\n",
              "      <td>1</td>\n",
              "      <td>0</td>\n",
              "      <td>1</td>\n",
              "      <td>0</td>\n",
              "      <td>1</td>\n",
              "      <td>1</td>\n",
              "      <td>0</td>\n",
              "      <td>0</td>\n",
              "      <td>0</td>\n",
              "      <td>0</td>\n",
              "      <td>1</td>\n",
              "      <td>0</td>\n",
              "      <td>1</td>\n",
              "      <td>1</td>\n",
              "      <td>0</td>\n",
              "    </tr>\n",
              "    <tr>\n",
              "      <th>3</th>\n",
              "      <td>2583.0</td>\n",
              "      <td>2358.0</td>\n",
              "      <td>120.0</td>\n",
              "      <td>7.765569</td>\n",
              "      <td>0</td>\n",
              "      <td>0</td>\n",
              "      <td>0</td>\n",
              "      <td>0</td>\n",
              "      <td>0</td>\n",
              "      <td>0</td>\n",
              "      <td>0</td>\n",
              "      <td>0</td>\n",
              "      <td>1</td>\n",
              "      <td>0</td>\n",
              "      <td>0</td>\n",
              "      <td>0</td>\n",
              "      <td>1</td>\n",
              "      <td>1</td>\n",
              "      <td>0</td>\n",
              "      <td>0</td>\n",
              "      <td>1</td>\n",
              "      <td>1</td>\n",
              "      <td>0</td>\n",
              "      <td>0</td>\n",
              "      <td>0</td>\n",
              "      <td>0</td>\n",
              "      <td>1</td>\n",
              "      <td>0</td>\n",
              "      <td>1</td>\n",
              "      <td>0</td>\n",
              "      <td>1</td>\n",
              "    </tr>\n",
              "    <tr>\n",
              "      <th>4</th>\n",
              "      <td>6000.0</td>\n",
              "      <td>0.0</td>\n",
              "      <td>141.0</td>\n",
              "      <td>0.000000</td>\n",
              "      <td>0</td>\n",
              "      <td>0</td>\n",
              "      <td>0</td>\n",
              "      <td>0</td>\n",
              "      <td>0</td>\n",
              "      <td>0</td>\n",
              "      <td>0</td>\n",
              "      <td>0</td>\n",
              "      <td>1</td>\n",
              "      <td>0</td>\n",
              "      <td>0</td>\n",
              "      <td>0</td>\n",
              "      <td>1</td>\n",
              "      <td>1</td>\n",
              "      <td>0</td>\n",
              "      <td>0</td>\n",
              "      <td>1</td>\n",
              "      <td>1</td>\n",
              "      <td>0</td>\n",
              "      <td>0</td>\n",
              "      <td>0</td>\n",
              "      <td>1</td>\n",
              "      <td>0</td>\n",
              "      <td>0</td>\n",
              "      <td>1</td>\n",
              "      <td>1</td>\n",
              "      <td>0</td>\n",
              "    </tr>\n",
              "  </tbody>\n",
              "</table>\n",
              "</div>"
            ],
            "text/plain": [
              "   ApplicantIncome  ...  Education_Not Graduate\n",
              "0           5849.0  ...                       0\n",
              "1           4583.0  ...                       0\n",
              "2           3000.0  ...                       0\n",
              "3           2583.0  ...                       1\n",
              "4           6000.0  ...                       0\n",
              "\n",
              "[5 rows x 31 columns]"
            ]
          },
          "metadata": {
            "tags": []
          },
          "execution_count": 40
        }
      ]
    },
    {
      "cell_type": "code",
      "metadata": {
        "id": "j2vtqa9G8SkF",
        "colab": {
          "base_uri": "https://localhost:8080/"
        },
        "outputId": "eca6c765-a235-47cf-fe5a-f0d429a7af98"
      },
      "source": [
        "df_ohe.shape"
      ],
      "execution_count": 41,
      "outputs": [
        {
          "output_type": "execute_result",
          "data": {
            "text/plain": [
              "(614, 31)"
            ]
          },
          "metadata": {
            "tags": []
          },
          "execution_count": 41
        }
      ]
    },
    {
      "cell_type": "markdown",
      "metadata": {
        "id": "OlTYH6ER8zGh"
      },
      "source": [
        "### Train Test Split\n",
        "\n",
        "Used to Split the Training dataset into Training the model & Testing the model\n",
        "\n",
        "Stratified Sampling : proportion of classes (0/1) in Training & Testing sets is maintained w.r.t that present in actual dataset "
      ]
    },
    {
      "cell_type": "code",
      "metadata": {
        "id": "hfmVbZ5Z-hEt"
      },
      "source": [
        "X_train, X_test, Y_train, Y_test = train_test_split(df_ohe, df_target, test_size=0.25, random_state=42 , stratify=df_target)"
      ],
      "execution_count": 42,
      "outputs": []
    },
    {
      "cell_type": "code",
      "metadata": {
        "id": "b6GMBGgH--4s",
        "colab": {
          "base_uri": "https://localhost:8080/"
        },
        "outputId": "b52ae38f-5264-49c2-8aea-5203876ac4b5"
      },
      "source": [
        "print(\"Train Feature set:\\t\"+str(len(X_train)))\n",
        "print(\"Train Label Feature set:\\t\"+str(len(Y_train)))\n",
        "print(\"Test Feature set:\\t\"+str(len(X_test)))\n",
        "print(\"Test label set:\\t\"+str(len(Y_test)))"
      ],
      "execution_count": 43,
      "outputs": [
        {
          "output_type": "stream",
          "text": [
            "Train Feature set:\t460\n",
            "Train Label Feature set:\t460\n",
            "Test Feature set:\t154\n",
            "Test label set:\t154\n"
          ],
          "name": "stdout"
        }
      ]
    },
    {
      "cell_type": "code",
      "metadata": {
        "id": "UKHkFXjp_lFM",
        "colab": {
          "base_uri": "https://localhost:8080/"
        },
        "outputId": "fe6a18e8-011d-4f8f-9f30-f27f36366f20"
      },
      "source": [
        "#Stratified Sampling\n",
        "print(\"For Training Data :\")\n",
        "print(Y_train['Loan_Status'].value_counts())\n",
        "lbl_1,lbl_0 = Y_train['Loan_Status'].value_counts()\n",
        "print(\"Label 1 class %age: \"+str((lbl_1*100)/Y_train['Loan_Status'].count()))\n",
        "print(\"Label 0 class %age: \"+str((lbl_0*100)/Y_train['Loan_Status'].count()))\n",
        "print(\"\\nFor Test Set :\")\n",
        "print(Y_test['Loan_Status'].value_counts())\n",
        "lbl_1,lbl_0 = Y_test['Loan_Status'].value_counts()\n",
        "print(\"Label 1 class %age: \"+str((lbl_1*100)/Y_test['Loan_Status'].count()))\n",
        "print(\"Label 0 class %age: \"+str((lbl_0*100)/Y_test['Loan_Status'].count()))"
      ],
      "execution_count": 44,
      "outputs": [
        {
          "output_type": "stream",
          "text": [
            "For Training Data :\n",
            "1    316\n",
            "0    144\n",
            "Name: Loan_Status, dtype: int64\n",
            "Label 1 class %age: 68.69565217391305\n",
            "Label 0 class %age: 31.304347826086957\n",
            "\n",
            "For Test Set :\n",
            "1    106\n",
            "0     48\n",
            "Name: Loan_Status, dtype: int64\n",
            "Label 1 class %age: 68.83116883116882\n",
            "Label 0 class %age: 31.16883116883117\n"
          ],
          "name": "stdout"
        }
      ]
    },
    {
      "cell_type": "markdown",
      "metadata": {
        "id": "McjjVIAxDcj6"
      },
      "source": [
        "### Decision Tree Classification Model run using GridSearch\n",
        "\n",
        "(https://scikit-learn.org/stable/modules/tree.html)\n",
        "\n",
        "Parameters to be fed , if not mentioned are taken as default\n",
        "\n",
        "Hyperparameter tuning can be done  using: *GridSearch CV or RandomSearchCV*"
      ]
    },
    {
      "cell_type": "code",
      "metadata": {
        "id": "D533sBimfqZD",
        "colab": {
          "base_uri": "https://localhost:8080/"
        },
        "outputId": "6c33a278-948f-4c03-b4ed-ac4c81bffcdc"
      },
      "source": [
        "clf_dt = DecisionTreeClassifier(random_state=42)\n",
        "clf_dt.fit(X_train, Y_train)\n",
        "print(clf_dt)"
      ],
      "execution_count": 45,
      "outputs": [
        {
          "output_type": "stream",
          "text": [
            "DecisionTreeClassifier(ccp_alpha=0.0, class_weight=None, criterion='gini',\n",
            "                       max_depth=None, max_features=None, max_leaf_nodes=None,\n",
            "                       min_impurity_decrease=0.0, min_impurity_split=None,\n",
            "                       min_samples_leaf=1, min_samples_split=2,\n",
            "                       min_weight_fraction_leaf=0.0, presort='deprecated',\n",
            "                       random_state=42, splitter='best')\n"
          ],
          "name": "stdout"
        }
      ]
    },
    {
      "cell_type": "code",
      "metadata": {
        "id": "qkLNBgXbPkDT",
        "colab": {
          "base_uri": "https://localhost:8080/"
        },
        "outputId": "4cda0e77-88ca-45b7-f9bb-c7e70a8ecca2"
      },
      "source": [
        "y_pred = clf_dt.predict(X_test)\n",
        "y_pred"
      ],
      "execution_count": 46,
      "outputs": [
        {
          "output_type": "execute_result",
          "data": {
            "text/plain": [
              "array([1, 0, 0, 0, 1, 1, 0, 0, 1, 1, 1, 1, 1, 1, 1, 0, 1, 1, 1, 1, 1, 0,\n",
              "       1, 0, 0, 0, 0, 1, 1, 1, 0, 0, 1, 0, 0, 1, 1, 0, 1, 1, 1, 1, 1, 1,\n",
              "       1, 1, 0, 0, 1, 0, 1, 1, 1, 1, 1, 1, 0, 1, 0, 1, 1, 0, 1, 1, 1, 0,\n",
              "       1, 1, 0, 1, 0, 1, 1, 1, 1, 1, 0, 1, 0, 1, 1, 1, 1, 0, 1, 0, 1, 1,\n",
              "       1, 0, 1, 1, 0, 1, 1, 1, 1, 1, 0, 0, 1, 1, 1, 0, 1, 1, 1, 0, 0, 1,\n",
              "       0, 1, 0, 0, 1, 1, 1, 1, 0, 1, 1, 1, 1, 1, 1, 1, 0, 1, 1, 0, 1, 1,\n",
              "       0, 1, 0, 1, 1, 0, 0, 0, 0, 1, 0, 1, 0, 1, 1, 0, 1, 1, 1, 1, 1, 1])"
            ]
          },
          "metadata": {
            "tags": []
          },
          "execution_count": 46
        }
      ]
    },
    {
      "cell_type": "markdown",
      "metadata": {
        "id": "SwLlD8NbTxzh"
      },
      "source": [
        "### Metrics of Evaluation\n",
        "\n",
        "**Confusion Matrix** : \n",
        "\n",
        "\n",
        "([TN , FP ]\n",
        "\n",
        " [FN , TP ])\n",
        "\n",
        "\n",
        "**Accuracy** : How many predictions ( 0 or 1) were correctly predicted by the model on the overall test set\n",
        "\n",
        "**Precision** : This metric informs that for Label class 1 predicted by model , how many were correctly predicted : TP/(TP+FP)\n",
        "\n",
        "**Recall** : Tells us how many of the Actual Label 1 cases were covered by model : TP /(TP +FN)\n",
        "\n",
        "Tradeoff between Recall & Precision generally observed in models\n",
        "\n",
        "**F1 Score** : A score provifing balance between Recall & Prediction : 2 *(Precision * Recall)/(Precision+ Recall)\n",
        "\n",
        "More details : https://towardsdatascience.com/accuracy-precision-recall-or-f1-331fb37c5cb9\n",
        "\n"
      ]
    },
    {
      "cell_type": "code",
      "metadata": {
        "id": "jGh5c_tRQTvC",
        "colab": {
          "base_uri": "https://localhost:8080/"
        },
        "outputId": "8d0db038-b7f9-4bec-b12a-931e3c92a23e"
      },
      "source": [
        "#Using Dtree without Gridsearch\n",
        "print(\"----Parameter tuning without GridSearch-----\")\n",
        "print(\"Confusion Matrix\")\n",
        "print(confusion_matrix(Y_test,y_pred))\n",
        "print(\"Accuracy of Dtree Model:\")\n",
        "print(accuracy_score(Y_test, y_pred))\n",
        "print(\"Precision of DTree Model:\")\n",
        "print (precision_score(Y_test, y_pred))\n",
        "print (\"Recall of DTree Model:\" )\n",
        "print( recall_score(Y_test, y_pred))\n",
        "print (\"F1 Score of DTree Model:\")\n",
        "print (f1_score(Y_test, y_pred))\n",
        "\n"
      ],
      "execution_count": 47,
      "outputs": [
        {
          "output_type": "stream",
          "text": [
            "----Parameter tuning without GridSearch-----\n",
            "Confusion Matrix\n",
            "[[31 17]\n",
            " [20 86]]\n",
            "Accuracy of Dtree Model:\n",
            "0.7597402597402597\n",
            "Precision of DTree Model:\n",
            "0.8349514563106796\n",
            "Recall of DTree Model:\n",
            "0.8113207547169812\n",
            "F1 Score of DTree Model:\n",
            "0.8229665071770335\n"
          ],
          "name": "stdout"
        }
      ]
    },
    {
      "cell_type": "markdown",
      "metadata": {
        "id": "amzj3RSWoIZT"
      },
      "source": [
        "### *GridSearchCV* \n",
        "\n",
        "Thismodule performs exhaustive search over specified parameter values for an estimator , by evaluating all combinations\n",
        "\n",
        "Implements a “fit” , “predict” methods , similar to models and uses Cross Validation approach. (https://scikit-learn.org/stable/modules/cross_validation.html) for  \n",
        "\n",
        "Details on GridSearch : \n",
        "(https://scikit-learn.org/stable/modules/generated/sklearn.model_selection.GridSearchCV.html)"
      ]
    },
    {
      "cell_type": "markdown",
      "metadata": {
        "id": "mzDIhtGx0Xhe"
      },
      "source": [
        ""
      ]
    },
    {
      "cell_type": "code",
      "metadata": {
        "id": "RW0_XRQQCL8N",
        "colab": {
          "base_uri": "https://localhost:8080/"
        },
        "outputId": "6782bd32-542f-4b50-b9bd-408574b83ab4"
      },
      "source": [
        "#Using GridSearch , find the optimal hyperparameters\n",
        "\n",
        "clf_dt = DecisionTreeClassifier()\n",
        "param_grid = {\n",
        "   'max_leaf_nodes': [  10, 20,2, 5, 50 ],\n",
        "   'class_weight' : ['balanced'],\n",
        "   'criterion' :['gini','entropy'] ,\n",
        "   'max_depth' : [ 30, 20, 75, 50, 100 ],\n",
        "   'min_samples_split': [ 2, 3, 4]\n",
        "    }\n",
        "CV_dt = GridSearchCV(estimator=clf_dt, param_grid=param_grid, cv= 3)\n",
        "CV_dt.fit(X_train, Y_train)\n",
        "clf_best_dt = CV_dt.best_estimator_\n",
        "print(clf_best_dt)\n",
        "y_pred = clf_best_dt.predict(X_test)\n"
      ],
      "execution_count": 48,
      "outputs": [
        {
          "output_type": "stream",
          "text": [
            "DecisionTreeClassifier(ccp_alpha=0.0, class_weight='balanced', criterion='gini',\n",
            "                       max_depth=30, max_features=None, max_leaf_nodes=2,\n",
            "                       min_impurity_decrease=0.0, min_impurity_split=None,\n",
            "                       min_samples_leaf=1, min_samples_split=2,\n",
            "                       min_weight_fraction_leaf=0.0, presort='deprecated',\n",
            "                       random_state=None, splitter='best')\n"
          ],
          "name": "stdout"
        }
      ]
    },
    {
      "cell_type": "code",
      "metadata": {
        "id": "hleDwX2Pq627",
        "colab": {
          "base_uri": "https://localhost:8080/"
        },
        "outputId": "429f0391-bb53-4c12-8619-72d48d26e88c"
      },
      "source": [
        "#Using Gridsearch optimal parameter tuning\n",
        "print(\"----Parameter tuning using GridSearch-----\")\n",
        "print(\"Confusion Matrix\")\n",
        "print(confusion_matrix(Y_test,y_pred))\n",
        "print(\"Accuracy of Dtree Model:\")\n",
        "print(accuracy_score(Y_test, y_pred))\n",
        "print(\"Precision of DTree Model:\")\n",
        "print (precision_score(Y_test, y_pred))\n",
        "print (\"Recall of DTree Model:\" )\n",
        "print( recall_score(Y_test, y_pred))\n",
        "print (\"F1 Score of DTree Model:\")\n",
        "print (f1_score(Y_test, y_pred))"
      ],
      "execution_count": 49,
      "outputs": [
        {
          "output_type": "stream",
          "text": [
            "----Parameter tuning using GridSearch-----\n",
            "Confusion Matrix\n",
            "[[ 27  21]\n",
            " [  1 105]]\n",
            "Accuracy of Dtree Model:\n",
            "0.8571428571428571\n",
            "Precision of DTree Model:\n",
            "0.8333333333333334\n",
            "Recall of DTree Model:\n",
            "0.9905660377358491\n",
            "F1 Score of DTree Model:\n",
            "0.9051724137931034\n"
          ],
          "name": "stdout"
        }
      ]
    },
    {
      "cell_type": "code",
      "metadata": {
        "id": "BY6c47Yf-B9P",
        "colab": {
          "base_uri": "https://localhost:8080/"
        },
        "outputId": "872160ed-46ac-4fd1-e914-4fd11369a29e"
      },
      "source": [
        "roc_auc_score(Y_test,y_pred)"
      ],
      "execution_count": 50,
      "outputs": [
        {
          "output_type": "execute_result",
          "data": {
            "text/plain": [
              "0.7765330188679245"
            ]
          },
          "metadata": {
            "tags": []
          },
          "execution_count": 50
        }
      ]
    },
    {
      "cell_type": "code",
      "metadata": {
        "id": "Bve99pq6-JkN",
        "colab": {
          "base_uri": "https://localhost:8080/",
          "height": 296
        },
        "outputId": "cc75ee6b-f2a4-4ae1-cff1-587d52eadfcb"
      },
      "source": [
        "fpr, tpr, thresholds = roc_curve(Y_test,y_pred)\n",
        "plt.figure(1)\n",
        "plt.plot([0, 1], [0, 1], 'k--')\n",
        "plt.plot(fpr, tpr, label='ROC curve (area = %0.2f)'% roc_auc_score(Y_test,y_pred))\n",
        "plt.xlabel('False positive rate')\n",
        "plt.ylabel('True positive rate')\n",
        "plt.legend(loc='best')"
      ],
      "execution_count": 51,
      "outputs": [
        {
          "output_type": "execute_result",
          "data": {
            "text/plain": [
              "<matplotlib.legend.Legend at 0x7f040cb46210>"
            ]
          },
          "metadata": {
            "tags": []
          },
          "execution_count": 51
        },
        {
          "output_type": "display_data",
          "data": {
            "image/png": "[encoded data removed]",
            "text/plain": [
              "<Figure size 432x288 with 1 Axes>"
            ]
          },
          "metadata": {
            "tags": [],
            "needs_background": "light"
          }
        }
      ]
    }
  ]
}